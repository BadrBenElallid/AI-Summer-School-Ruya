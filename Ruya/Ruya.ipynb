{
  "cells": [
    {
      "cell_type": "markdown",
      "metadata": {
        "id": "view-in-github",
        "colab_type": "text"
      },
      "source": [
        "<a href=\"https://colab.research.google.com/github/BadrBenElallid/AI-Summer-School/blob/main/Ruya.ipynb\" target=\"_parent\"><img src=\"https://colab.research.google.com/assets/colab-badge.svg\" alt=\"Open In Colab\"/></a>"
      ]
    },
    {
      "cell_type": "code",
      "source": [
        "!pip install jinaai"
      ],
      "metadata": {
        "colab": {
          "base_uri": "https://localhost:8080/"
        },
        "id": "tLSEyrVFzffH",
        "outputId": "368f80bf-9751-4e77-ca62-90391a5fd29d"
      },
      "execution_count": null,
      "outputs": [
        {
          "output_type": "stream",
          "name": "stdout",
          "text": [
            "Collecting jinaai\n",
            "  Downloading jinaai-0.2.1-py3-none-any.whl (13 kB)\n",
            "Requirement already satisfied: requests in /usr/local/lib/python3.10/dist-packages (from jinaai) (2.27.1)\n",
            "Requirement already satisfied: urllib3<1.27,>=1.21.1 in /usr/local/lib/python3.10/dist-packages (from requests->jinaai) (1.26.16)\n",
            "Requirement already satisfied: certifi>=2017.4.17 in /usr/local/lib/python3.10/dist-packages (from requests->jinaai) (2023.5.7)\n",
            "Requirement already satisfied: charset-normalizer~=2.0.0 in /usr/local/lib/python3.10/dist-packages (from requests->jinaai) (2.0.12)\n",
            "Requirement already satisfied: idna<4,>=2.5 in /usr/local/lib/python3.10/dist-packages (from requests->jinaai) (3.4)\n",
            "Installing collected packages: jinaai\n",
            "Successfully installed jinaai-0.2.1\n"
          ]
        }
      ]
    },
    {
      "cell_type": "code",
      "source": [
        "from jinaai import JinaAI\n",
        "\n",
        "jinaai = JinaAI(\n",
        "    secrets = {\n",
        "        'promptperfect-secret': 'XXXXXX',\n",
        "        'scenex-secret': 'GKclASN27WIcnEaVeRkB:157d1e7b8a5bdb2f271b15494523689830eb093b147d8eecbcc160f5152a1a18',\n",
        "        'rationale-secret': 'XXXXXX',\n",
        "        'jinachat-secret': 'XXXXXX',\n",
        "    }\n",
        ")"
      ],
      "metadata": {
        "id": "lwYc5-NBzlKL"
      },
      "execution_count": null,
      "outputs": []
    },
    {
      "cell_type": "code",
      "source": [
        "from PIL import Image"
      ],
      "metadata": {
        "id": "bMLgOq9o1Y4y"
      },
      "execution_count": null,
      "outputs": []
    },
    {
      "cell_type": "code",
      "source": [
        "image = 'https://upload.wikimedia.org/wikipedia/commons/thumb/6/6d/Car_Crash_7-1-18_2245_%2842450608354%29.jpg/1280px-Car_Crash_7-1-18_2245_%2842450608354%29.jpg'"
      ],
      "metadata": {
        "id": "tHWvJ_Ve1rWV"
      },
      "execution_count": null,
      "outputs": []
    },
    {
      "cell_type": "code",
      "source": [
        "descriptions = jinaai.describe(\n",
        "    image,\n",
        "    { 'raw': True }\n",
        ")\n",
        "\n",
        "print(descriptions['raw'])"
      ],
      "metadata": {
        "colab": {
          "base_uri": "https://localhost:8080/"
        },
        "id": "2jCV1am6zxki",
        "outputId": "d5a9f727-8c1d-4102-9131-b737b9889d7a"
      },
      "execution_count": null,
      "outputs": [
        {
          "output_type": "stream",
          "name": "stdout",
          "text": [
            "{'result': [{'id': 'AbllKWxoqksPn8vjaryU', 'image': 'https://storage.googleapis.com/causal-diffusion.appspot.com/imagePrompts%2F103e959f-ed3f-45f2-bc7a-6c1d1045f05d%2Foriginal.png', 'features': [], 'raw': True, 'uid': 'A94XVbnz5PXFAtuTkcoxZgU13Hs1', 'optOut': False, 'algorithm': 'Glide', 'text': 'The image shows a police officer standing next to an upside-down car on the side of a street. The car is red in color. Two police officers can be seen talking to each other on the street. The red car has been involved in a crash. Nearby, there is a traffic light with a hand symbol and a sign that says \"No turn on red.\" \\n\\nIn the background, there is a brick house with a window that has a tree inside it. In the middle of the street, there is a white crosswalk. The street is wide and empty, suggesting that it might be closed off or undergoing maintenance. \\n\\nThe image captures a chaotic scene involving a car accident and police activity. The presence of the traffic light and the sign indicates that this is a regulated area where certain actions are restricted. The upside-down car and the police officers\\' interaction suggest that an accident has occurred and they are managing the situation.', 'userId': 'A94XVbnz5PXFAtuTkcoxZgU13Hs1', 'createdAt': 1689900068031, 'i18n': {'en': 'The image shows a police officer standing next to an upside-down car on the side of a street. The car is red in color. Two police officers can be seen talking to each other on the street. The red car has been involved in a crash. Nearby, there is a traffic light with a hand symbol and a sign that says \"No turn on red.\" \\n\\nIn the background, there is a brick house with a window that has a tree inside it. In the middle of the street, there is a white crosswalk. The street is wide and empty, suggesting that it might be closed off or undergoing maintenance. \\n\\nThe image captures a chaotic scene involving a car accident and police activity. The presence of the traffic light and the sign indicates that this is a regulated area where certain actions are restricted. The upside-down car and the police officers\\' interaction suggest that an accident has occurred and they are managing the situation.'}, 'languages': ['en']}]}\n"
          ]
        }
      ]
    },
    {
      "cell_type": "code",
      "source": [
        "import json\n",
        "\n",
        "def get_text(response):\n",
        "    \"\"\"Gets the text from the JSON response.\"\"\"\n",
        "    text = response[\"result\"][0][\"text\"]\n",
        "    return text\n",
        "\n",
        "response = descriptions['raw']\n",
        "\n",
        "text = get_text(response)\n",
        "\n",
        "print(text)"
      ],
      "metadata": {
        "colab": {
          "base_uri": "https://localhost:8080/"
        },
        "id": "dgNtAPEv5ObV",
        "outputId": "ff4d34f5-aee8-4bab-ef3d-cc146a1f366d"
      },
      "execution_count": null,
      "outputs": [
        {
          "output_type": "stream",
          "name": "stdout",
          "text": [
            "The image shows a police officer standing next to an upside-down car on the side of a street. The car is red in color. Two police officers can be seen talking to each other on the street. The red car has been involved in a crash. Nearby, there is a traffic light with a hand symbol and a sign that says \"No turn on red.\" \n",
            "\n",
            "In the background, there is a brick house with a window that has a tree inside it. In the middle of the street, there is a white crosswalk. The street is wide and empty, suggesting that it might be closed off or undergoing maintenance. \n",
            "\n",
            "The image captures a chaotic scene involving a car accident and police activity. The presence of the traffic light and the sign indicates that this is a regulated area where certain actions are restricted. The upside-down car and the police officers' interaction suggest that an accident has occurred and they are managing the situation.\n"
          ]
        }
      ]
    },
    {
      "cell_type": "code",
      "execution_count": null,
      "metadata": {
        "colab": {
          "base_uri": "https://localhost:8080/"
        },
        "id": "MSxBxtDSWI-Q",
        "outputId": "882bac33-2c0b-4929-e3cc-37c3c058fbfc"
      },
      "outputs": [
        {
          "output_type": "stream",
          "name": "stdout",
          "text": [
            "--2023-07-21 00:41:52--  https://dl.fbaipublicfiles.com/nllb/lid/lid218e.bin\n",
            "Resolving dl.fbaipublicfiles.com (dl.fbaipublicfiles.com)... 13.224.249.63, 13.224.249.83, 13.224.249.96, ...\n",
            "Connecting to dl.fbaipublicfiles.com (dl.fbaipublicfiles.com)|13.224.249.63|:443... connected.\n",
            "HTTP request sent, awaiting response... 200 OK\n",
            "Length: 1176355829 (1.1G) [application/octet-stream]\n",
            "Saving to: ‘lid218e.bin’\n",
            "\n",
            "lid218e.bin         100%[===================>]   1.09G  13.2MB/s    in 76s     \n",
            "\n",
            "2023-07-21 00:43:09 (14.7 MB/s) - ‘lid218e.bin’ saved [1176355829/1176355829]\n",
            "\n"
          ]
        }
      ],
      "source": [
        "# download the language model pretrained file\n",
        "!wget https://dl.fbaipublicfiles.com/nllb/lid/lid218e.bin"
      ]
    },
    {
      "cell_type": "code",
      "execution_count": null,
      "metadata": {
        "colab": {
          "base_uri": "https://localhost:8080/",
          "height": 783
        },
        "id": "oT9vDaj_bNho",
        "outputId": "543acc63-fa25-4c77-f0bb-de751a255e82"
      },
      "outputs": [
        {
          "output_type": "stream",
          "name": "stdout",
          "text": [
            "Requirement already satisfied: pip in /usr/local/lib/python3.10/dist-packages (23.1.2)\n",
            "Collecting pip\n",
            "  Downloading pip-23.2-py3-none-any.whl (2.1 MB)\n",
            "\u001b[2K     \u001b[90m━━━━━━━━━━━━━━━━━━━━━━━━━━━━━━━━━━━━━━━━\u001b[0m \u001b[32m2.1/2.1 MB\u001b[0m \u001b[31m28.3 MB/s\u001b[0m eta \u001b[36m0:00:00\u001b[0m\n",
            "\u001b[?25hRequirement already satisfied: transformers in /usr/local/lib/python3.10/dist-packages (4.26.1)\n",
            "Collecting transformers\n",
            "  Downloading transformers-4.31.0-py3-none-any.whl (7.4 MB)\n",
            "\u001b[2K     \u001b[90m━━━━━━━━━━━━━━━━━━━━━━━━━━━━━━━━━━━━━━━━\u001b[0m \u001b[32m7.4/7.4 MB\u001b[0m \u001b[31m118.5 MB/s\u001b[0m eta \u001b[36m0:00:00\u001b[0m\n",
            "\u001b[?25hRequirement already satisfied: filelock in /usr/local/lib/python3.10/dist-packages (from transformers) (3.12.2)\n",
            "Requirement already satisfied: huggingface-hub<1.0,>=0.14.1 in /usr/local/lib/python3.10/dist-packages (from transformers) (0.16.4)\n",
            "Requirement already satisfied: numpy>=1.17 in /usr/local/lib/python3.10/dist-packages (from transformers) (1.22.4)\n",
            "Requirement already satisfied: packaging>=20.0 in /usr/local/lib/python3.10/dist-packages (from transformers) (23.1)\n",
            "Requirement already satisfied: pyyaml>=5.1 in /usr/local/lib/python3.10/dist-packages (from transformers) (6.0)\n",
            "Requirement already satisfied: regex!=2019.12.17 in /usr/local/lib/python3.10/dist-packages (from transformers) (2022.10.31)\n",
            "Requirement already satisfied: requests in /usr/local/lib/python3.10/dist-packages (from transformers) (2.27.1)\n",
            "Requirement already satisfied: tokenizers!=0.11.3,<0.14,>=0.11.1 in /usr/local/lib/python3.10/dist-packages (from transformers) (0.13.3)\n",
            "Collecting safetensors>=0.3.1 (from transformers)\n",
            "  Downloading safetensors-0.3.1-cp310-cp310-manylinux_2_17_x86_64.manylinux2014_x86_64.whl (1.3 MB)\n",
            "\u001b[2K     \u001b[90m━━━━━━━━━━━━━━━━━━━━━━━━━━━━━━━━━━━━━━━━\u001b[0m \u001b[32m1.3/1.3 MB\u001b[0m \u001b[31m77.1 MB/s\u001b[0m eta \u001b[36m0:00:00\u001b[0m\n",
            "\u001b[?25hRequirement already satisfied: tqdm>=4.27 in /usr/local/lib/python3.10/dist-packages (from transformers) (4.65.0)\n",
            "Requirement already satisfied: fsspec in /usr/local/lib/python3.10/dist-packages (from huggingface-hub<1.0,>=0.14.1->transformers) (2023.6.0)\n",
            "Requirement already satisfied: typing-extensions>=3.7.4.3 in /usr/local/lib/python3.10/dist-packages (from huggingface-hub<1.0,>=0.14.1->transformers) (4.7.1)\n",
            "Requirement already satisfied: urllib3<1.27,>=1.21.1 in /usr/local/lib/python3.10/dist-packages (from requests->transformers) (1.26.16)\n",
            "Requirement already satisfied: certifi>=2017.4.17 in /usr/local/lib/python3.10/dist-packages (from requests->transformers) (2023.5.7)\n",
            "Requirement already satisfied: charset-normalizer~=2.0.0 in /usr/local/lib/python3.10/dist-packages (from requests->transformers) (2.0.12)\n",
            "Requirement already satisfied: idna<4,>=2.5 in /usr/local/lib/python3.10/dist-packages (from requests->transformers) (3.4)\n",
            "Installing collected packages: safetensors, pip, transformers\n",
            "  Attempting uninstall: pip\n",
            "    Found existing installation: pip 23.1.2\n",
            "    Uninstalling pip-23.1.2:\n",
            "      Successfully uninstalled pip-23.1.2\n",
            "  Attempting uninstall: transformers\n",
            "    Found existing installation: transformers 4.26.1\n",
            "    Uninstalling transformers-4.26.1:\n",
            "      Successfully uninstalled transformers-4.26.1\n",
            "\u001b[31mERROR: pip's dependency resolver does not currently take into account all the packages that are installed. This behaviour is the source of the following dependency conflicts.\n",
            "salesforce-lavis 1.0.2 requires transformers<4.27,>=4.25.0, but you have transformers 4.31.0 which is incompatible.\u001b[0m\u001b[31m\n",
            "\u001b[0mSuccessfully installed pip-23.2 safetensors-0.3.1 transformers-4.31.0\n"
          ]
        },
        {
          "output_type": "display_data",
          "data": {
            "application/vnd.colab-display-data+json": {
              "pip_warning": {
                "packages": [
                  "transformers"
                ]
              }
            }
          },
          "metadata": {}
        }
      ],
      "source": [
        "!pip install -U pip transformers"
      ]
    },
    {
      "cell_type": "code",
      "execution_count": null,
      "metadata": {
        "colab": {
          "base_uri": "https://localhost:8080/"
        },
        "id": "U_mhGmCbWBmw",
        "outputId": "23955936-cc57-4be8-f29d-c692dfa8206a"
      },
      "outputs": [
        {
          "output_type": "stream",
          "name": "stdout",
          "text": [
            "Requirement already satisfied: sentencepiece in /usr/local/lib/python3.10/dist-packages (0.1.99)\n",
            "\u001b[33mWARNING: Running pip as the 'root' user can result in broken permissions and conflicting behaviour with the system package manager. It is recommended to use a virtual environment instead: https://pip.pypa.io/warnings/venv\u001b[0m\u001b[33m\n",
            "\u001b[0m"
          ]
        }
      ],
      "source": [
        "!pip install sentencepiece"
      ]
    },
    {
      "cell_type": "code",
      "execution_count": null,
      "metadata": {
        "id": "jZKNvterQlPB"
      },
      "outputs": [],
      "source": [
        "from transformers import AutoTokenizer, AutoModelForSeq2SeqLM"
      ]
    },
    {
      "cell_type": "code",
      "execution_count": null,
      "metadata": {
        "id": "_kLpsLcAYwmf"
      },
      "outputs": [],
      "source": [
        "input_lang='eng_Latn'\n",
        "text1= 'The cars included in the accident are a red car and a black car. The red car is damaged on its side and the black car has a damaged headlight. The red car is heavy and the black car is a service vehicle. The accident in the image shows a collision between the red car and the black car. The red car has visible damage on its side, while the black car has a damaged headlight. The level of severity of the accident can be considered moderate, as the damage is clearly visible on both cars.'\n",
        "text2= text\n",
        "text3= 'In this situation, it is advisable to gather information about the accident, exchange contact and insurance information with the other party involved, and potentially involve law enforcement if necessary. It may also be necessary to assess and document any injuries sustained and contact insurance providers to report the incident.'\n",
        "target_lang='ary_Arab'\n",
        "max_length=1000"
      ]
    },
    {
      "cell_type": "code",
      "execution_count": null,
      "metadata": {
        "id": "rUMM9mRSYswV"
      },
      "outputs": [],
      "source": [
        "def translate_text(text, input_lang, target_lang, max_length):\n",
        "    tokenizer = AutoTokenizer.from_pretrained('facebook/nllb-200-3.3B')\n",
        "    model = AutoModelForSeq2SeqLM.from_pretrained('facebook/nllb-200-3.3B')\n",
        "\n",
        "    chunks = text.split(\".\")\n",
        "    translation = \"\"\n",
        "    for chunk in chunks:\n",
        "        if len(chunk) > max_length:\n",
        "            chunk = chunk[:max_length]\n",
        "\n",
        "        outputs = model.generate(\n",
        "            **tokenizer(chunk, return_tensors=\"pt\"),\n",
        "            max_length=max_length,\n",
        "            forced_bos_token_id=tokenizer.lang_code_to_id[target_lang],\n",
        "        )\n",
        "\n",
        "        translation += tokenizer.decode(outputs[0], skip_special_tokens=True)\n",
        "\n",
        "    return translation"
      ]
    },
    {
      "cell_type": "code",
      "execution_count": null,
      "metadata": {
        "id": "p41ghb7nYo0o",
        "colab": {
          "base_uri": "https://localhost:8080/",
          "height": 86,
          "referenced_widgets": [
            "a8c3e888bd8f44dda216ccc0653985ef",
            "dcc4629ab5ef46edaf107c3e33981ecb",
            "13407c59deb949b9abb77f2a5e686c96",
            "8aa729f1337e4b2abc69f4c781142f17",
            "d18bdb93e3df412eba8201ca18be10e1",
            "0aac07c053cc47078b2d5440d8970ca9",
            "049cd07eed1146fc9235edab25f6ebbd",
            "ffa92717226742cba8d84ad44b22b79c",
            "4f09355bc2234b86b868adf52d040db2",
            "b62af22633ce440e94862e8e959f9176",
            "d945787c5c814adeb9405b186723b453"
          ]
        },
        "outputId": "addcc3ca-8d55-4bbf-a2b0-7c6b1d56ae08"
      },
      "outputs": [
        {
          "output_type": "display_data",
          "data": {
            "text/plain": [
              "Loading checkpoint shards:   0%|          | 0/3 [00:00<?, ?it/s]"
            ],
            "application/vnd.jupyter.widget-view+json": {
              "version_major": 2,
              "version_minor": 0,
              "model_id": "a8c3e888bd8f44dda216ccc0653985ef"
            }
          },
          "metadata": {}
        },
        {
          "output_type": "stream",
          "name": "stdout",
          "text": [
            "فحالة كهاديك، من المستحسن جمع المعلومات عن الحادث، وتبادل معلومات الاتصال والتأمين مع الطرف الآخر المعني، وربما تشارك قوات إنفاذ القانون إذا لزم الأمريمكن ليكو يكون ضروري أيضا تقييم و توثيق أي إصابات تتعرض لها و الاتصال بمقدمي التأمينات للإبلاغ عن الحادثة\n"
          ]
        }
      ],
      "source": [
        "translated_text = translate_text(\n",
        "    text3, input_lang, target_lang, max_length\n",
        ")\n",
        "print(translated_text)"
      ]
    }
  ],
  "metadata": {
    "accelerator": "GPU",
    "colab": {
      "machine_shape": "hm",
      "provenance": [],
      "gpuType": "A100",
      "include_colab_link": true
    },
    "kernelspec": {
      "display_name": "Python 3",
      "name": "python3"
    },
    "language_info": {
      "name": "python"
    },
    "widgets": {
      "application/vnd.jupyter.widget-state+json": {
        "a8c3e888bd8f44dda216ccc0653985ef": {
          "model_module": "@jupyter-widgets/controls",
          "model_name": "HBoxModel",
          "model_module_version": "1.5.0",
          "state": {
            "_dom_classes": [],
            "_model_module": "@jupyter-widgets/controls",
            "_model_module_version": "1.5.0",
            "_model_name": "HBoxModel",
            "_view_count": null,
            "_view_module": "@jupyter-widgets/controls",
            "_view_module_version": "1.5.0",
            "_view_name": "HBoxView",
            "box_style": "",
            "children": [
              "IPY_MODEL_dcc4629ab5ef46edaf107c3e33981ecb",
              "IPY_MODEL_13407c59deb949b9abb77f2a5e686c96",
              "IPY_MODEL_8aa729f1337e4b2abc69f4c781142f17"
            ],
            "layout": "IPY_MODEL_d18bdb93e3df412eba8201ca18be10e1"
          }
        },
        "dcc4629ab5ef46edaf107c3e33981ecb": {
          "model_module": "@jupyter-widgets/controls",
          "model_name": "HTMLModel",
          "model_module_version": "1.5.0",
          "state": {
            "_dom_classes": [],
            "_model_module": "@jupyter-widgets/controls",
            "_model_module_version": "1.5.0",
            "_model_name": "HTMLModel",
            "_view_count": null,
            "_view_module": "@jupyter-widgets/controls",
            "_view_module_version": "1.5.0",
            "_view_name": "HTMLView",
            "description": "",
            "description_tooltip": null,
            "layout": "IPY_MODEL_0aac07c053cc47078b2d5440d8970ca9",
            "placeholder": "​",
            "style": "IPY_MODEL_049cd07eed1146fc9235edab25f6ebbd",
            "value": "Loading checkpoint shards: 100%"
          }
        },
        "13407c59deb949b9abb77f2a5e686c96": {
          "model_module": "@jupyter-widgets/controls",
          "model_name": "FloatProgressModel",
          "model_module_version": "1.5.0",
          "state": {
            "_dom_classes": [],
            "_model_module": "@jupyter-widgets/controls",
            "_model_module_version": "1.5.0",
            "_model_name": "FloatProgressModel",
            "_view_count": null,
            "_view_module": "@jupyter-widgets/controls",
            "_view_module_version": "1.5.0",
            "_view_name": "ProgressView",
            "bar_style": "success",
            "description": "",
            "description_tooltip": null,
            "layout": "IPY_MODEL_ffa92717226742cba8d84ad44b22b79c",
            "max": 3,
            "min": 0,
            "orientation": "horizontal",
            "style": "IPY_MODEL_4f09355bc2234b86b868adf52d040db2",
            "value": 3
          }
        },
        "8aa729f1337e4b2abc69f4c781142f17": {
          "model_module": "@jupyter-widgets/controls",
          "model_name": "HTMLModel",
          "model_module_version": "1.5.0",
          "state": {
            "_dom_classes": [],
            "_model_module": "@jupyter-widgets/controls",
            "_model_module_version": "1.5.0",
            "_model_name": "HTMLModel",
            "_view_count": null,
            "_view_module": "@jupyter-widgets/controls",
            "_view_module_version": "1.5.0",
            "_view_name": "HTMLView",
            "description": "",
            "description_tooltip": null,
            "layout": "IPY_MODEL_b62af22633ce440e94862e8e959f9176",
            "placeholder": "​",
            "style": "IPY_MODEL_d945787c5c814adeb9405b186723b453",
            "value": " 3/3 [00:11&lt;00:00,  3.54s/it]"
          }
        },
        "d18bdb93e3df412eba8201ca18be10e1": {
          "model_module": "@jupyter-widgets/base",
          "model_name": "LayoutModel",
          "model_module_version": "1.2.0",
          "state": {
            "_model_module": "@jupyter-widgets/base",
            "_model_module_version": "1.2.0",
            "_model_name": "LayoutModel",
            "_view_count": null,
            "_view_module": "@jupyter-widgets/base",
            "_view_module_version": "1.2.0",
            "_view_name": "LayoutView",
            "align_content": null,
            "align_items": null,
            "align_self": null,
            "border": null,
            "bottom": null,
            "display": null,
            "flex": null,
            "flex_flow": null,
            "grid_area": null,
            "grid_auto_columns": null,
            "grid_auto_flow": null,
            "grid_auto_rows": null,
            "grid_column": null,
            "grid_gap": null,
            "grid_row": null,
            "grid_template_areas": null,
            "grid_template_columns": null,
            "grid_template_rows": null,
            "height": null,
            "justify_content": null,
            "justify_items": null,
            "left": null,
            "margin": null,
            "max_height": null,
            "max_width": null,
            "min_height": null,
            "min_width": null,
            "object_fit": null,
            "object_position": null,
            "order": null,
            "overflow": null,
            "overflow_x": null,
            "overflow_y": null,
            "padding": null,
            "right": null,
            "top": null,
            "visibility": null,
            "width": null
          }
        },
        "0aac07c053cc47078b2d5440d8970ca9": {
          "model_module": "@jupyter-widgets/base",
          "model_name": "LayoutModel",
          "model_module_version": "1.2.0",
          "state": {
            "_model_module": "@jupyter-widgets/base",
            "_model_module_version": "1.2.0",
            "_model_name": "LayoutModel",
            "_view_count": null,
            "_view_module": "@jupyter-widgets/base",
            "_view_module_version": "1.2.0",
            "_view_name": "LayoutView",
            "align_content": null,
            "align_items": null,
            "align_self": null,
            "border": null,
            "bottom": null,
            "display": null,
            "flex": null,
            "flex_flow": null,
            "grid_area": null,
            "grid_auto_columns": null,
            "grid_auto_flow": null,
            "grid_auto_rows": null,
            "grid_column": null,
            "grid_gap": null,
            "grid_row": null,
            "grid_template_areas": null,
            "grid_template_columns": null,
            "grid_template_rows": null,
            "height": null,
            "justify_content": null,
            "justify_items": null,
            "left": null,
            "margin": null,
            "max_height": null,
            "max_width": null,
            "min_height": null,
            "min_width": null,
            "object_fit": null,
            "object_position": null,
            "order": null,
            "overflow": null,
            "overflow_x": null,
            "overflow_y": null,
            "padding": null,
            "right": null,
            "top": null,
            "visibility": null,
            "width": null
          }
        },
        "049cd07eed1146fc9235edab25f6ebbd": {
          "model_module": "@jupyter-widgets/controls",
          "model_name": "DescriptionStyleModel",
          "model_module_version": "1.5.0",
          "state": {
            "_model_module": "@jupyter-widgets/controls",
            "_model_module_version": "1.5.0",
            "_model_name": "DescriptionStyleModel",
            "_view_count": null,
            "_view_module": "@jupyter-widgets/base",
            "_view_module_version": "1.2.0",
            "_view_name": "StyleView",
            "description_width": ""
          }
        },
        "ffa92717226742cba8d84ad44b22b79c": {
          "model_module": "@jupyter-widgets/base",
          "model_name": "LayoutModel",
          "model_module_version": "1.2.0",
          "state": {
            "_model_module": "@jupyter-widgets/base",
            "_model_module_version": "1.2.0",
            "_model_name": "LayoutModel",
            "_view_count": null,
            "_view_module": "@jupyter-widgets/base",
            "_view_module_version": "1.2.0",
            "_view_name": "LayoutView",
            "align_content": null,
            "align_items": null,
            "align_self": null,
            "border": null,
            "bottom": null,
            "display": null,
            "flex": null,
            "flex_flow": null,
            "grid_area": null,
            "grid_auto_columns": null,
            "grid_auto_flow": null,
            "grid_auto_rows": null,
            "grid_column": null,
            "grid_gap": null,
            "grid_row": null,
            "grid_template_areas": null,
            "grid_template_columns": null,
            "grid_template_rows": null,
            "height": null,
            "justify_content": null,
            "justify_items": null,
            "left": null,
            "margin": null,
            "max_height": null,
            "max_width": null,
            "min_height": null,
            "min_width": null,
            "object_fit": null,
            "object_position": null,
            "order": null,
            "overflow": null,
            "overflow_x": null,
            "overflow_y": null,
            "padding": null,
            "right": null,
            "top": null,
            "visibility": null,
            "width": null
          }
        },
        "4f09355bc2234b86b868adf52d040db2": {
          "model_module": "@jupyter-widgets/controls",
          "model_name": "ProgressStyleModel",
          "model_module_version": "1.5.0",
          "state": {
            "_model_module": "@jupyter-widgets/controls",
            "_model_module_version": "1.5.0",
            "_model_name": "ProgressStyleModel",
            "_view_count": null,
            "_view_module": "@jupyter-widgets/base",
            "_view_module_version": "1.2.0",
            "_view_name": "StyleView",
            "bar_color": null,
            "description_width": ""
          }
        },
        "b62af22633ce440e94862e8e959f9176": {
          "model_module": "@jupyter-widgets/base",
          "model_name": "LayoutModel",
          "model_module_version": "1.2.0",
          "state": {
            "_model_module": "@jupyter-widgets/base",
            "_model_module_version": "1.2.0",
            "_model_name": "LayoutModel",
            "_view_count": null,
            "_view_module": "@jupyter-widgets/base",
            "_view_module_version": "1.2.0",
            "_view_name": "LayoutView",
            "align_content": null,
            "align_items": null,
            "align_self": null,
            "border": null,
            "bottom": null,
            "display": null,
            "flex": null,
            "flex_flow": null,
            "grid_area": null,
            "grid_auto_columns": null,
            "grid_auto_flow": null,
            "grid_auto_rows": null,
            "grid_column": null,
            "grid_gap": null,
            "grid_row": null,
            "grid_template_areas": null,
            "grid_template_columns": null,
            "grid_template_rows": null,
            "height": null,
            "justify_content": null,
            "justify_items": null,
            "left": null,
            "margin": null,
            "max_height": null,
            "max_width": null,
            "min_height": null,
            "min_width": null,
            "object_fit": null,
            "object_position": null,
            "order": null,
            "overflow": null,
            "overflow_x": null,
            "overflow_y": null,
            "padding": null,
            "right": null,
            "top": null,
            "visibility": null,
            "width": null
          }
        },
        "d945787c5c814adeb9405b186723b453": {
          "model_module": "@jupyter-widgets/controls",
          "model_name": "DescriptionStyleModel",
          "model_module_version": "1.5.0",
          "state": {
            "_model_module": "@jupyter-widgets/controls",
            "_model_module_version": "1.5.0",
            "_model_name": "DescriptionStyleModel",
            "_view_count": null,
            "_view_module": "@jupyter-widgets/base",
            "_view_module_version": "1.2.0",
            "_view_name": "StyleView",
            "description_width": ""
          }
        }
      }
    }
  },
  "nbformat": 4,
  "nbformat_minor": 0
}
